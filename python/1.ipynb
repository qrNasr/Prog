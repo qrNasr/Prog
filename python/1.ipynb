{
 "cells": [
  {
   "cell_type": "code",
   "execution_count": 10,
   "metadata": {},
   "outputs": [
    {
     "name": "stdout",
     "output_type": "stream",
     "text": [
      "you have selected 3\n",
      "you have entered Nasr\n",
      "you have entered Mona\n",
      "you have entered Omar\n",
      "['Nasr', 'Mona', 'Omar']\n",
      "The name who is going to pay is Omar!\n"
     ]
    }
   ],
   "source": [
    "# Nasr Code\n",
    "import random as r\n",
    "i=0\n",
    "names=[]\n",
    "namesCount=int(input(\"How many names you have? \"))\n",
    "print(f\"you have selected {namesCount}\")\n",
    "\n",
    "while i<namesCount:\n",
    "# if i<namesCount-1:\n",
    "  enteredNames=input(\"Please enter a Name: \")\n",
    "  names.append(enteredNames)\n",
    "  i=i+1\n",
    "  print(f'you have entered {enteredNames}')\n",
    "#   namesCount=namesCount+1\n",
    "print(names)\n",
    "\n",
    "#print(f'name selected is {r.choice(enteredNames)}')\n",
    "print(\"The name who is going to pay is\", r.choice(names)+ \"!\")\n",
    "\n"
   ]
  }
 ],
 "metadata": {
  "kernelspec": {
   "display_name": "Python 3.10.4 64-bit",
   "language": "python",
   "name": "python3"
  },
  "language_info": {
   "codemirror_mode": {
    "name": "ipython",
    "version": 3
   },
   "file_extension": ".py",
   "mimetype": "text/x-python",
   "name": "python",
   "nbconvert_exporter": "python",
   "pygments_lexer": "ipython3",
   "version": "3.10.4"
  },
  "orig_nbformat": 4,
  "vscode": {
   "interpreter": {
    "hash": "916dbcbb3f70747c44a77c7bcd40155683ae19c65e1c03b4aa3499c5328201f1"
   }
  }
 },
 "nbformat": 4,
 "nbformat_minor": 2
}
